{
 "cells": [
  {
   "cell_type": "markdown",
   "metadata": {},
   "source": [
    "# Final Project\n",
    "\n",
    "You will be asked to download data by yourselves and answer several data science questions through this final project. This project has two parts.\n",
    "\n",
    "\n",
    "## Part 1 (15 Points):\n",
    "\n",
    "This part contains 10 different data science questions that you are asked to answer. You need to download the corresponding data and write code to process the data to answer these questions. For each question, you need to provide your code to anser this question, as well as final answers. Each question will be worth 1.5 points in this part. \n",
    "\n",
    "\n",
    "## Final Submission:\n",
    "\n",
    "Your final submission will contain two files:\n",
    "\n",
    "1. The first would be this notebook. You need to provide code for your answers as well as your answers. You also need to provide visualization and executive summary using Markdown in this notebook. \n",
    "\n",
    "2. The second is the html version of this notebook. \n"
   ]
  },
  {
   "cell_type": "markdown",
   "metadata": {},
   "source": [
    "## Part 1\n",
    "\n",
    "First, you need to download the most recent datasets containing listing and reviews in **Los Angeles** from [insidearibnb.com](http://insideairbnb.com/get-the-data.html). (September,2019,detailed data)You will then need to provide the code as well as answers to the following questions.\n",
    "\n",
    "**To make sure that you downloaded the right dataset, your solution to Question 1 should be:**\n",
    "1. **Number of unique listings = 45053**\n",
    "2. **Number of unique hosts = 26286**"
   ]
  },
  {
   "cell_type": "markdown",
   "metadata": {},
   "source": [
    "### Question 1: How many unique listings are there in the LA dataset? How many unique hosts are there?\n",
    "**Question 1 Answer:**\n",
    "\n",
    "The number of unique listings in the LA dataset is 45053. And, the number of unique hosts are 26286 in the LA dataset."
   ]
  },
  {
   "cell_type": "code",
   "execution_count": null,
   "metadata": {
    "scrolled": true
   },
   "outputs": [],
   "source": [
    "\n",
    "# You need to provide the code to answer the previous quesiton\n",
    "# (you should also briefly explain your data structure -- \n",
    "# where do you put your data and how you get your data)\n",
    "import pandas as pd\n",
    "from pandasql import sqldf\n",
    "import numpy as np"
   ]
  },
  {
   "cell_type": "code",
   "execution_count": null,
   "metadata": {},
   "outputs": [],
   "source": [
    "listing_df=pd.read_csv('listings.csv',na_values={'NaN':'NA'})\n",
    "uniq_listing=len(listing_df.drop_duplicates(keep='last', subset=['id']))\n",
    "uniq_host=len(listing_df.drop_duplicates(keep='last', subset=['host_id']))\n",
    "num_row,num_column=listing_df.shape"
   ]
  },
  {
   "cell_type": "code",
   "execution_count": null,
   "metadata": {
    "scrolled": true
   },
   "outputs": [],
   "source": [
    "print(\"Number of unique listings = \",listing_df.id.unique().shape[0])\n",
    "print(\"Number of unique hosts = \",listing_df.host_id.unique().shape[0])"
   ]
  },
  {
   "cell_type": "markdown",
   "metadata": {},
   "source": [
    "### Question 2: What is the mean, median, standard deviation, minimum and maximum of the number of listings per host in LA? (for each host, you only need to consider the listings from LA)\n",
    "**Question 2 Answer:**\n",
    "\n",
    " The mean of the number of listings per host in LA =  1.7139541961500417  ,and the median of the number of listings per host in LA =  1.0 ;  The standard deviation of the number of listings per host in LA =  2.99918333694991 ; The minimum of the number of listings per host in LA =  1 ; The maximum of the number of listings per host in LA =  172"
   ]
  },
  {
   "cell_type": "code",
   "execution_count": 6,
   "metadata": {},
   "outputs": [
    {
     "name": "stdout",
     "output_type": "stream",
     "text": [
      " The mean of the number of listings per host in LA =  1.7139541961500417 \n",
      " The median of the number of listings per host in LA =  1.0 \n",
      " The standard deviation of the number of listings per host in LA =  2.99918333694991 \n",
      " The minimum of the number of listings per host in LA =  1 \n",
      " The maximum of the number of listings per host in LA =  172\n"
     ]
    }
   ],
   "source": [
    "# You need to provide the code to answer the previous quesiton\n",
    "A_df=listing_df.groupby(by='host_id').id.count().sort_values()\n",
    "print(\" The mean of the number of listings per host in LA = \",A_df.mean(),\"\\n\",\\\n",
    "       \"The median of the number of listings per host in LA = \",A_df.median(),\"\\n\",\\\n",
    "       \"The standard deviation of the number of listings per host in LA = \",A_df.std(),\"\\n\",\\\n",
    "       \"The minimum of the number of listings per host in LA = \",A_df.min(),\"\\n\",\\\n",
    "       \"The maximum of the number of listings per host in LA = \",A_df.max())"
   ]
  },
  {
   "cell_type": "markdown",
   "metadata": {},
   "source": [
    "### Question 3: What is the average and standard deviation number of listings for a super host versus a non-super host? Does super host or non-super host have more listings on average?\n",
    "**Question 3 Answer:**\n",
    "\n",
    "The average for non-super host is 1.671021 and the standard deviation is 2.926276. As for super host, the average is 1.824264 and the standard deviation is 3.177892. Obviously, super host have more listing on average."
   ]
  },
  {
   "cell_type": "code",
   "execution_count": 7,
   "metadata": {},
   "outputs": [
    {
     "data": {
      "text/html": [
       "<div>\n",
       "<style scoped>\n",
       "    .dataframe tbody tr th:only-of-type {\n",
       "        vertical-align: middle;\n",
       "    }\n",
       "\n",
       "    .dataframe tbody tr th {\n",
       "        vertical-align: top;\n",
       "    }\n",
       "\n",
       "    .dataframe thead th {\n",
       "        text-align: right;\n",
       "    }\n",
       "</style>\n",
       "<table border=\"1\" class=\"dataframe\">\n",
       "  <thead>\n",
       "    <tr style=\"text-align: right;\">\n",
       "      <th></th>\n",
       "      <th>mean</th>\n",
       "      <th>std</th>\n",
       "    </tr>\n",
       "    <tr>\n",
       "      <th>host_is_superhost</th>\n",
       "      <th></th>\n",
       "      <th></th>\n",
       "    </tr>\n",
       "  </thead>\n",
       "  <tbody>\n",
       "    <tr>\n",
       "      <th>f</th>\n",
       "      <td>1.671021</td>\n",
       "      <td>2.926276</td>\n",
       "    </tr>\n",
       "    <tr>\n",
       "      <th>t</th>\n",
       "      <td>1.824264</td>\n",
       "      <td>3.177892</td>\n",
       "    </tr>\n",
       "  </tbody>\n",
       "</table>\n",
       "</div>"
      ],
      "text/plain": [
       "                       mean       std\n",
       "host_is_superhost                    \n",
       "f                  1.671021  2.926276\n",
       "t                  1.824264  3.177892"
      ]
     },
     "execution_count": 7,
     "metadata": {},
     "output_type": "execute_result"
    }
   ],
   "source": [
    "# You need to provide the code to answer the previous quesiton\n",
    "B_df=listing_df.groupby(by=['host_is_superhost','host_id']).size().groupby(by=['host_is_superhost'])\\\n",
    ".agg([np.mean,np.std])\n",
    "B_df"
   ]
  },
  {
   "cell_type": "markdown",
   "metadata": {},
   "source": [
    "### Question 4: What are the unique types of host verifications are there? (It doesn't matter if you include \"None\" or empty string as a type)\n",
    "**Question 4 Answer:**\n",
    "\n",
    "The unique types of host verifications are \n",
    " ['email', 'phone', 'facebook', 'reviews', 'kba', 'jumio', 'government_id', 'offline_government_id', 'selfie', 'identity_manual', 'work_email', 'manual_online', 'manual_offline', 'google', 'sent_id', 'None', 'sesame', 'sesame_offline', 'photographer', 'zhima_selfie', 'weibo']"
   ]
  },
  {
   "cell_type": "code",
   "execution_count": 8,
   "metadata": {},
   "outputs": [
    {
     "name": "stdout",
     "output_type": "stream",
     "text": [
      "The unique types of host verifications are \n",
      " ['email', 'phone', 'facebook', 'reviews', 'kba', 'jumio', 'government_id', 'offline_government_id', 'selfie', 'identity_manual', 'work_email', 'manual_online', 'manual_offline', 'google', 'sent_id', 'None', 'sesame', 'sesame_offline', 'photographer', 'zhima_selfie', 'weibo']\n"
     ]
    }
   ],
   "source": [
    "# You need to provide the code to answer the previous quesiton\n",
    "uniq_lst = []\n",
    "for i in listing_df[\"host_verifications\"]:\n",
    "    i = i.strip('[').strip(']').split(',')\n",
    "    for j in i:\n",
    "        j = j.strip(' \\'')\n",
    "        if j in uniq_lst:\n",
    "            continue\n",
    "        elif j != '':\n",
    "            uniq_lst.append(j)\n",
    "print(\"The unique types of host verifications are\",\"\\n\",[i for i in uniq_lst])"
   ]
  },
  {
   "cell_type": "markdown",
   "metadata": {},
   "source": [
    "### Question 5: What are the five most popular verification types of hosts? For each type of the top five verifications, how many percent of hosts verify that type?\n",
    "**Question 5 Answer:**\n",
    "\n",
    "The five most popular verification types are phone (the percentage is 0.996766), email (the percentage is 0.938370), reviews (the percentage is 0.688541), government_id (the percentage is 0.587689), jumio (the percentage is 0.433387)."
   ]
  },
  {
   "cell_type": "code",
   "execution_count": 9,
   "metadata": {},
   "outputs": [
    {
     "data": {
      "text/html": [
       "<div>\n",
       "<style scoped>\n",
       "    .dataframe tbody tr th:only-of-type {\n",
       "        vertical-align: middle;\n",
       "    }\n",
       "\n",
       "    .dataframe tbody tr th {\n",
       "        vertical-align: top;\n",
       "    }\n",
       "\n",
       "    .dataframe thead th {\n",
       "        text-align: right;\n",
       "    }\n",
       "</style>\n",
       "<table border=\"1\" class=\"dataframe\">\n",
       "  <thead>\n",
       "    <tr style=\"text-align: right;\">\n",
       "      <th></th>\n",
       "      <th>verification</th>\n",
       "      <th>percentage</th>\n",
       "    </tr>\n",
       "  </thead>\n",
       "  <tbody>\n",
       "    <tr>\n",
       "      <th>0</th>\n",
       "      <td>phone</td>\n",
       "      <td>0.996766</td>\n",
       "    </tr>\n",
       "    <tr>\n",
       "      <th>1</th>\n",
       "      <td>email</td>\n",
       "      <td>0.938370</td>\n",
       "    </tr>\n",
       "    <tr>\n",
       "      <th>2</th>\n",
       "      <td>reviews</td>\n",
       "      <td>0.688541</td>\n",
       "    </tr>\n",
       "    <tr>\n",
       "      <th>3</th>\n",
       "      <td>government_id</td>\n",
       "      <td>0.587689</td>\n",
       "    </tr>\n",
       "    <tr>\n",
       "      <th>4</th>\n",
       "      <td>jumio</td>\n",
       "      <td>0.433387</td>\n",
       "    </tr>\n",
       "  </tbody>\n",
       "</table>\n",
       "</div>"
      ],
      "text/plain": [
       "    verification  percentage\n",
       "0          phone    0.996766\n",
       "1          email    0.938370\n",
       "2        reviews    0.688541\n",
       "3  government_id    0.587689\n",
       "4          jumio    0.433387"
      ]
     },
     "execution_count": 9,
     "metadata": {},
     "output_type": "execute_result"
    }
   ],
   "source": [
    "# You need to provide the code to answer the previous quesiton\n",
    "d1_df=listing_df.drop_duplicates(keep='last',subset=['host_id']).host_verifications\n",
    "d1_df=d1_df.reset_index()\n",
    "\n",
    "def get(row,t):\n",
    "    row=row['host_verifications']\n",
    "    row=row[1:len(row)-1]\n",
    "    #rows=list(row.split(', '))\n",
    "    if \"'\"+t+\"'\" in row:\n",
    "        return 1\n",
    "    else:\n",
    "        return 0\n",
    "    \n",
    "for t in uniq_lst:\n",
    "    d1_df[t]=d1_df.apply(lambda x: get(x,t),axis=1)\n",
    "\n",
    "n=len(d1_df)\n",
    "e1_df=d1_df.apply(lambda x:x.sum())[uniq_lst].apply(lambda x: x/n)\n",
    "e1_df.sort_values(ascending=False).reset_index().rename(columns={'index':'verification',0:'percentage'})[0:5]"
   ]
  },
  {
   "cell_type": "markdown",
   "metadata": {},
   "source": [
    "### Question 6: What is the mean, standard deviation of the average price of a listing in Los Angles from 01/01/2020 to 03/01/2020 (inclusive)? (For listings that are not available in this time, you should not count them in the average price.)\n",
    "\n",
    "**Question 6 Answer:**\n",
    "\n",
    "The mean of the average price in LA from 01/01/2020 to 03/01/2020 is 254.778227. And the standard deviation of the average price of a listing in Los Angles from 01/01/2020 to 03/01/2020 is 684.755050"
   ]
  },
  {
   "cell_type": "code",
   "execution_count": 10,
   "metadata": {
    "scrolled": true
   },
   "outputs": [
    {
     "name": "stdout",
     "output_type": "stream",
     "text": [
      "mean    254.778227\n",
      "std     684.755050\n",
      "Name: int_price, dtype: float64\n"
     ]
    }
   ],
   "source": [
    "# You need to provide the code to answer the previous quesiton\n",
    "calendar_df=pd.read_csv('calendar.csv')\n",
    "calendar_df['new_date']=calendar_df.date.apply(lambda x: int(x[0:4]+x[5:7]+x[8:]))\n",
    "calendar_df.head(5)\n",
    "def str_to_int(row):\n",
    "    if type(row) is not float:\n",
    "        if len(row)>=9:\n",
    "            num=row[1:-7]+row[-6:-3]\n",
    "            return int(num)\n",
    "        else:\n",
    "            num=row[1:-3]\n",
    "            return int(num)\n",
    "calendar_df['int_price']=calendar_df.price.apply(str_to_int)\n",
    "f_df=calendar_df.loc[(calendar_df.new_date>=20200101) & (calendar_df.new_date<=20200301) & \\\n",
    "                     (calendar_df.available=='t'),['listing_id','int_price']]\n",
    "f_df=f_df.groupby(by=['listing_id'])['int_price'].mean().agg([np.mean,np.std])\n",
    "\n",
    "print(f_df)"
   ]
  },
  {
   "cell_type": "markdown",
   "metadata": {},
   "source": [
    "### Question 7: For reviews that are written in Jan, 2016, what are the most popular ten words except stopping words? What about reviews written in March, 2017 and April, 2018?\n",
    "**Hint**: You need to use NTLK stopping words to find the stopping words in Python. You also need to remove punctuation and numbers\n",
    "\n",
    "**Question 7 Answer:**\n",
    "\n",
    "The most popular ten words in 2016-01 are: 'great', 'stay', 'place', 'clean', 'location', 'house', 'us', 'nice', 'would', 'host'; \n",
    "The most popular ten words in 2017-03 are: 'great', 'place', 'stay', 'location', 'clean', 'nice', 'would', 'host', 'house', 'comfortable'; \n",
    "The most popular ten words in 2018-04 are: 'great', 'place', 'stay', 'location', 'clean', 'would', 'host', 'nice', 'house', 'everything'"
   ]
  },
  {
   "cell_type": "code",
   "execution_count": 19,
   "metadata": {},
   "outputs": [
    {
     "name": "stderr",
     "output_type": "stream",
     "text": [
      "[nltk_data] Downloading package stopwords to\n",
      "[nltk_data]     /Users/victorhddd/nltk_data...\n",
      "[nltk_data]   Package stopwords is already up-to-date!\n"
     ]
    }
   ],
   "source": [
    "import nltk\n",
    "from nltk.corpus import stopwords\n",
    "nltk.download('stopwords')\n",
    "stop_words = stopwords.words('english')\n",
    "import string\n",
    "punc=set(string.punctuation)\n",
    "\n",
    "reviews_df=pd.read_csv('reviews.csv')\n",
    "number=['1','2','3','4','5','6','7','8','9','0','']"
   ]
  },
  {
   "cell_type": "code",
   "execution_count": 20,
   "metadata": {},
   "outputs": [],
   "source": [
    "def review(time,df):\n",
    "    reviews_list=[]\n",
    "    for index,rows in df.iterrows():\n",
    "        if time in rows['date']:\n",
    "            comment=str(rows['comments'])\n",
    "            comment_new=''\n",
    "            for i in range(len(comment)):\n",
    "                if comment[i] not in number:\n",
    "                    if comment[i] not in punc:\n",
    "                        comment_new+=comment[i].lower()\n",
    "                    else:\n",
    "                        comment_new+=' '\n",
    "            comment_list=comment_new.strip().split(' ')\n",
    "            for t in comment_list:\n",
    "                if t not in stop_words:\n",
    "                    reviews_list.append(t)\n",
    "    return reviews_list"
   ]
  },
  {
   "cell_type": "code",
   "execution_count": 21,
   "metadata": {},
   "outputs": [],
   "source": [
    "def word_count_10(word_list):\n",
    "    word_dict={}\n",
    "    for i in word_list:\n",
    "        if i in word_dict.keys():\n",
    "            word_dict[i]+=1\n",
    "        else:\n",
    "            word_dict[i]=1\n",
    "    if '' in word_dict.keys():\n",
    "        del word_dict['']\n",
    "    word_dict_sorted = sorted( word_dict.items(),key = lambda x:x[1],reverse = True)\n",
    "    \n",
    "    word_df=pd.DataFrame.from_dict(word_dict_sorted[0:10])\n",
    "    word_df.columns=['word','count']\n",
    "    return word_df"
   ]
  },
  {
   "cell_type": "code",
   "execution_count": 22,
   "metadata": {},
   "outputs": [],
   "source": [
    "reviews_2016_01=review('2016-01',reviews_df)\n",
    "reviews_2017_03=review('2017-03',reviews_df)\n",
    "reviews_2018_04=review('2018-04',reviews_df)"
   ]
  },
  {
   "cell_type": "code",
   "execution_count": 18,
   "metadata": {},
   "outputs": [
    {
     "ename": "NameError",
     "evalue": "name 'get_word' is not defined",
     "output_type": "error",
     "traceback": [
      "\u001b[0;31m---------------------------------------------------------------------------\u001b[0m",
      "\u001b[0;31mNameError\u001b[0m                                 Traceback (most recent call last)",
      "\u001b[0;32m<ipython-input-18-fcbd8cd9e33e>\u001b[0m in \u001b[0;36m<module>\u001b[0;34m\u001b[0m\n\u001b[0;32m----> 1\u001b[0;31m \u001b[0mprint\u001b[0m\u001b[0;34m(\u001b[0m\u001b[0mget_word\u001b[0m\u001b[0;34m(\u001b[0m\u001b[0mreviews_2016_01\u001b[0m\u001b[0;34m)\u001b[0m\u001b[0;34m)\u001b[0m\u001b[0;34m\u001b[0m\u001b[0;34m\u001b[0m\u001b[0m\n\u001b[0m",
      "\u001b[0;31mNameError\u001b[0m: name 'get_word' is not defined"
     ]
    }
   ],
   "source": [
    "print(get_word(reviews_2016_01))"
   ]
  },
  {
   "cell_type": "code",
   "execution_count": null,
   "metadata": {},
   "outputs": [],
   "source": [
    "print(get_word(reviews_2017_03))"
   ]
  },
  {
   "cell_type": "code",
   "execution_count": null,
   "metadata": {},
   "outputs": [],
   "source": [
    "print(get_word(reviews_2018_04))"
   ]
  },
  {
   "cell_type": "markdown",
   "metadata": {},
   "source": [
    "### Question 8: Which five zipcode has the highest average listing price and has at least 30 listings (again only considering available dates) between 2020-01-01 to 2020-02-01 (inclusive)? What are these listing prices? What are the number of active listings and number of hosts in these top five zipcodes (a listing is active if it has at least one available date in the calendar data)?\n",
    "\n",
    "**Question 8 Answer:**\n",
    "\n",
    "The five zipcodes with the highest average listing price and has at least 30 listings between 2020-01-01 to 2020-02-01 (inclusive) are 90210, 90077, 90265, 90069, 91436. The average listing price for these zipcodes are 1963.557367, 1909.066130, 1559.605010, 998.113153, 742.660019 respectively. The number of active listings are 278, 74, 329, 423 and 40 respectively. The number of hosts are 173, 48, 221, 305 and 33 respectively."
   ]
  },
  {
   "cell_type": "code",
   "execution_count": 23,
   "metadata": {},
   "outputs": [
    {
     "data": {
      "text/html": [
       "<div>\n",
       "<style scoped>\n",
       "    .dataframe tbody tr th:only-of-type {\n",
       "        vertical-align: middle;\n",
       "    }\n",
       "\n",
       "    .dataframe tbody tr th {\n",
       "        vertical-align: top;\n",
       "    }\n",
       "\n",
       "    .dataframe thead th {\n",
       "        text-align: right;\n",
       "    }\n",
       "</style>\n",
       "<table border=\"1\" class=\"dataframe\">\n",
       "  <thead>\n",
       "    <tr style=\"text-align: right;\">\n",
       "      <th></th>\n",
       "      <th>zipcode</th>\n",
       "      <th>AVG(int_price)</th>\n",
       "      <th>COUNT(DISTINCT id)</th>\n",
       "      <th>COUNT(DISTINCT host_id)</th>\n",
       "    </tr>\n",
       "  </thead>\n",
       "  <tbody>\n",
       "    <tr>\n",
       "      <th>0</th>\n",
       "      <td>90210</td>\n",
       "      <td>1963.557367</td>\n",
       "      <td>278</td>\n",
       "      <td>173</td>\n",
       "    </tr>\n",
       "    <tr>\n",
       "      <th>1</th>\n",
       "      <td>90077</td>\n",
       "      <td>1909.066130</td>\n",
       "      <td>74</td>\n",
       "      <td>48</td>\n",
       "    </tr>\n",
       "    <tr>\n",
       "      <th>2</th>\n",
       "      <td>90265</td>\n",
       "      <td>1559.605010</td>\n",
       "      <td>329</td>\n",
       "      <td>221</td>\n",
       "    </tr>\n",
       "    <tr>\n",
       "      <th>3</th>\n",
       "      <td>90069</td>\n",
       "      <td>998.113153</td>\n",
       "      <td>423</td>\n",
       "      <td>305</td>\n",
       "    </tr>\n",
       "    <tr>\n",
       "      <th>4</th>\n",
       "      <td>91436</td>\n",
       "      <td>742.660019</td>\n",
       "      <td>40</td>\n",
       "      <td>33</td>\n",
       "    </tr>\n",
       "  </tbody>\n",
       "</table>\n",
       "</div>"
      ],
      "text/plain": [
       "  zipcode  AVG(int_price)  COUNT(DISTINCT id)  COUNT(DISTINCT host_id)\n",
       "0   90210     1963.557367                 278                      173\n",
       "1   90077     1909.066130                  74                       48\n",
       "2   90265     1559.605010                 329                      221\n",
       "3   90069      998.113153                 423                      305\n",
       "4   91436      742.660019                  40                       33"
      ]
     },
     "execution_count": 23,
     "metadata": {},
     "output_type": "execute_result"
    }
   ],
   "source": [
    "# You need to provide the code to answer the previous quesiton\n",
    "from pandasql import sqldf\n",
    "\n",
    "g_df=calendar_df.loc[(calendar_df.new_date>=20200101) & (calendar_df.new_date<=20200201) \\\n",
    "                     & (calendar_df.available=='t'),['listing_id','int_price']]\n",
    "h_df=g_df.merge(listing_df, how='left', left_on='listing_id', right_on='id')\n",
    "i_df=sqldf('SELECT zipcode, AVG(int_price), COUNT(DISTINCT id), COUNT(DISTINCT host_id) \\\n",
    "FROM h_df GROUP BY zipcode HAVING COUNT(DISTINCT id)>=30 ORDER BY AVG(int_price) DESC LIMIT 5')\n",
    "i_df"
   ]
  },
  {
   "cell_type": "markdown",
   "metadata": {},
   "source": [
    "### Question 9: Focusing on the data from 2020-01-01 to 2020-04-01 (inclusive), what are five zipcodes that have at least 30 listings and have the largest absolute difference between the average prices on weekends versus the average prices on weekdays? (Weekends = Saturday and Sunday). Please give the zipcodes as well as the listing prices\n",
    "**Question 9 Answer:**\n",
    "\n",
    "The five zipcodes that have at least 30 listings and have the largest absolute difference between the average prices on weekends versus the average prices on weekdays are 90265, 91325, 91436, 90293 and 90048. The absolute differences are 24.733803, 15.341341, 12.383224, 11.918970 and 10.531587 respectively."
   ]
  },
  {
   "cell_type": "code",
   "execution_count": null,
   "metadata": {},
   "outputs": [],
   "source": [
    "# You need to provide the code to answer the previous quesiton\n",
    "calendar_df['date_parsed'] = pd.to_datetime(calendar_df['date'])\n",
    "calendar_df['weekday']=calendar_df.date_parsed.apply(lambda x: 'Weekday' if x.weekday()<=4 else 'Weekend')\n",
    "j_df=calendar_df.loc[(calendar_df.new_date>=20200101) & (calendar_df.new_date<=20200401) & \\\n",
    "                     (calendar_df.available=='t'),['listing_id','int_price','weekday','date_parsed']]\n",
    "k_df=j_df.merge(listing_df, how='left', left_on='listing_id', right_on='id')\n",
    "l_df=sqldf('SELECT zipcode FROM k_df GROUP BY zipcode HAVING COUNT(DISTINCT id)>=30')"
   ]
  },
  {
   "cell_type": "code",
   "execution_count": null,
   "metadata": {},
   "outputs": [],
   "source": [
    "zipcode_list=l_df['zipcode'].tolist()\n",
    "k_df['bool_zipcode']=k_df.zipcode.apply(lambda x: 1 if x in zipcode_list else 0)\n",
    "m_df=k_df.loc[k_df['bool_zipcode'] ==1,:].groupby(by=['zipcode','weekday']).int_price.mean().unstack()\n",
    "m_df=m_df.reset_index()\n",
    "m_df['abs_price']=m_df.apply(lambda x: abs(x['Weekday']-x['Weekend']),axis=1)\n",
    "m_df.sort_values(by=['abs_price'],ascending=False)[:5]"
   ]
  },
  {
   "cell_type": "markdown",
   "metadata": {},
   "source": [
    "### Question 10: What is the average and standard deviation of the daily total capacity at Airbnb Los Angeles from 2020-01-01 to 2020-04-01? The daily total capacity in a day is the number of beds that are available in that given date. What is the average and standard deviation of the daily price per bed at Airbnb Los Angeles from 2020-01-01 to 2020-04-01?\n",
    "**Question 10 Answer:**\n",
    "\n",
    "The average and standard deviation of the daily total capacity at Airbnb Los Angeles from 2020-01-01 to 2020-04-01 is 46995.228261 and 4980.641316. The average and standard deviation of the daily price per bed at Airbnb Los Angeles from 2020-01-01 to 2020-04-01 is 124.113884 and 5.626011."
   ]
  },
  {
   "cell_type": "code",
   "execution_count": null,
   "metadata": {},
   "outputs": [],
   "source": [
    "# You need to provide the code to answer the previous quesiton\n",
    "n_df=k_df.groupby(by=['date_parsed'])['beds','int_price'].\\\n",
    "apply(lambda x: pd.Series({'Capacity':x['beds'].sum(),'Price':x['int_price'].sum()/x['beds'].sum()}))\n",
    "n_df.describe()"
   ]
  },
  {
   "cell_type": "markdown",
   "metadata": {},
   "source": [
    "## Part 2 (15 Points):\n",
    "\n",
    "In this part, you need to find **5** interesting business questions out of the datasets. You then need to write Python code to answer the questions. Last, you need to write a 200-word summary of your answers and business insights you get from ansewr these 5 questions baed on your code. You will be evaluated based on the following criterion:\n",
    "\n",
    "1. You need to ask three business-relevant questions (2 points)\n",
    "2. You need to answer these three questions using Python and the datasets (1 points)\n",
    "3. You have at least **5** graphs to visualize your insights (2 points)\n",
    "4. Your executive summary of your answers are well-written and make sense (5 points)\n",
    "5. Your business insights are very interesting and the report is creative (5 points)\n"
   ]
  },
  {
   "cell_type": "markdown",
   "metadata": {},
   "source": [
    "**(You need to use this cell to write your 5 questions)**\n",
    "\n",
    "**Question 1:**\n",
    "\n",
    "**Question 2:**\n",
    "\n",
    "**Question 3:**\n",
    "\n",
    "**Question 4:**\n",
    "\n",
    "**Question 5:**\n"
   ]
  },
  {
   "cell_type": "code",
   "execution_count": null,
   "metadata": {},
   "outputs": [],
   "source": [
    "# Your code to answer Question 1"
   ]
  },
  {
   "cell_type": "code",
   "execution_count": 105,
   "metadata": {},
   "outputs": [],
   "source": [
    "# Your code to answer Question 2"
   ]
  },
  {
   "cell_type": "code",
   "execution_count": null,
   "metadata": {},
   "outputs": [],
   "source": [
    "# Your code to answer Question 3"
   ]
  },
  {
   "cell_type": "code",
   "execution_count": null,
   "metadata": {},
   "outputs": [],
   "source": [
    "# Your code to answer Question 4"
   ]
  },
  {
   "cell_type": "code",
   "execution_count": null,
   "metadata": {},
   "outputs": [],
   "source": [
    "# Your code to answer Question 5"
   ]
  },
  {
   "cell_type": "markdown",
   "metadata": {},
   "source": [
    "## Executive Summary\n",
    "**(You need to use this cell to write your executive summary)**\n",
    "\n",
    "First of all, from 2016 to 2019, the most frequently mentioned words in comments with scores Below 90 were room something and room something. Surprisingly, we found that in 2019, customers were more concerned about cleaning bathrooms and cleaning, which means that customers have been more concerned about cleaning recently. And two,. We were surprised by the much higher average prices for homes with more stringent cancellation policies, but it makes sense, because the more expensive the homes, the higher the cancellation costs, and therefore the more stringent cancellation policies are needed. The result shows that it is not the cancellation policy but the contrary policy that affects the price. And three... The top 10 regions have low average ratings and prices, while the top 10 regions are hardly listed. (34.0,-118.9) is the most respected but also the most expensive area to go in. (34.7,-118.1) and (34.3,-118.3) are unpopular, but good for those hoping for high ratings and low prices. Size (34.0,-118.3 ~-118.5) and size (34.1,-118.1 ~-118.4) are the most popular places for Airbnb to go public, located in Downtown Los Angeles. Then, all of the detailed ratings will affect the overall score, which is statistically significant. Accuracy and value are two of the most important factors for customers to evaluate their experience. Finally, if the host responds within a day, it does not affect the overall score and communication score."
   ]
  },
  {
   "cell_type": "code",
   "execution_count": null,
   "metadata": {},
   "outputs": [],
   "source": []
  }
 ],
 "metadata": {
  "kernelspec": {
   "display_name": "Python 3",
   "language": "python",
   "name": "python3"
  },
  "language_info": {
   "codemirror_mode": {
    "name": "ipython",
    "version": 3
   },
   "file_extension": ".py",
   "mimetype": "text/x-python",
   "name": "python",
   "nbconvert_exporter": "python",
   "pygments_lexer": "ipython3",
   "version": "3.7.3"
  }
 },
 "nbformat": 4,
 "nbformat_minor": 2
}
